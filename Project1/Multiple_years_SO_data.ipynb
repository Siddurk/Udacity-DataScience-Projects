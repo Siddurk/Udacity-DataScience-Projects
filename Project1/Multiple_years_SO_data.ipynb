{
 "cells": [
  {
   "cell_type": "code",
   "execution_count": 1,
   "metadata": {},
   "outputs": [],
   "source": [
    "import numpy as np\n",
    "import pandas as pd\n",
    "import matplotlib.pyplot as plt\n",
    "import seaborn as sns\n",
    "from IPython import display\n",
    "%matplotlib inline"
   ]
  },
  {
   "cell_type": "markdown",
   "metadata": {},
   "source": [
    "Step1: Looking at the previous data"
   ]
  },
  {
   "cell_type": "code",
   "execution_count": 2,
   "metadata": {},
   "outputs": [
    {
     "name": "stderr",
     "output_type": "stream",
     "text": [
      "/opt/conda/lib/python3.6/site-packages/IPython/core/interactiveshell.py:2785: DtypeWarning: Columns (8,12,13,14,15,16,50,51,52,53,55,56,57,58,59,60,61,62,63,64,65,66,67,68,69,70,71,72,73,74,75,76,77,78,79,80,81,82,83,84,85,93,94,95,96,97,98,99,100,101,102,103,104,105,106,107,108,109,110,111,112,113,114,115,116,117,118,119,120,121,122,123,124,125,126,127,128) have mixed types. Specify dtype option on import or set low_memory=False.\n",
      "  interactivity=interactivity, compiler=compiler, result=result)\n"
     ]
    }
   ],
   "source": [
    "df_2022 = pd.read_csv('./previous_data/survey_results_public_2022.csv')\n",
    "df_2021 = pd.read_csv('./previous_data/survey_results_public_2021.csv')\n",
    "df_2020 = pd.read_csv('./previous_data/survey_results_public_2020.csv')\n",
    "df_2019 = pd.read_csv('./previous_data/survey_results_public_2019.csv')\n",
    "df_2018 = pd.read_csv('./previous_data/survey_results_public_2018.csv')\n",
    "df_2017 = pd.read_csv('./previous_data/survey_results_public_2017.csv')\n",
    "df_2016 = pd.read_csv('./previous_data/survey_results_public_2016.csv')"
   ]
  },
  {
   "cell_type": "code",
   "execution_count": 3,
   "metadata": {},
   "outputs": [],
   "source": [
    "schema_df = pd.read_csv('./previous_data/survey_results_schema.csv')"
   ]
  },
  {
   "cell_type": "markdown",
   "metadata": {},
   "source": [
    "Step2: Finding the similar columns in these datasets"
   ]
  },
  {
   "cell_type": "code",
   "execution_count": 4,
   "metadata": {},
   "outputs": [],
   "source": [
    "int_cols_1 = np.intersect1d(list(df_2022.columns),list(df_2021.columns),list(df_2020.columns))\n",
    "int_cols_2 = np.intersect1d(list(df_2019.columns),list(df_2018.columns),list(df_2017.columns))\n",
    "int_cols_3 = np.intersect1d(int_cols_1,int_cols_2)"
   ]
  },
  {
   "cell_type": "code",
   "execution_count": 5,
   "metadata": {},
   "outputs": [
    {
     "data": {
      "text/plain": [
       "array(['Age', 'Country', 'DevType', 'Employment', 'Gender'], \n",
       "      dtype='<U30')"
      ]
     },
     "execution_count": 5,
     "metadata": {},
     "output_type": "execute_result"
    }
   ],
   "source": [
    "int_cols_3"
   ]
  },
  {
   "cell_type": "code",
   "execution_count": 6,
   "metadata": {},
   "outputs": [
    {
     "data": {
      "text/plain": [
       "array(['Accessibility', 'Age', 'CompFreq', 'CompTotal',\n",
       "       'ConvertedCompYearly', 'Country', 'Currency',\n",
       "       'DatabaseHaveWorkedWith', 'DatabaseWantToWorkWith', 'DevType',\n",
       "       'EdLevel', 'Employment', 'Ethnicity', 'Gender',\n",
       "       'LanguageHaveWorkedWith', 'LanguageWantToWorkWith', 'LearnCode',\n",
       "       'MainBranch', 'MentalHealth', 'MiscTechHaveWorkedWith',\n",
       "       'MiscTechWantToWorkWith', 'NEWCollabToolsHaveWorkedWith',\n",
       "       'NEWCollabToolsWantToWorkWith', 'NEWSOSites', 'OrgSize',\n",
       "       'PlatformHaveWorkedWith', 'PlatformWantToWorkWith', 'ResponseId',\n",
       "       'SOAccount', 'SOComm', 'SOPartFreq', 'SOVisitFreq', 'Sexuality',\n",
       "       'SurveyEase', 'SurveyLength', 'ToolsTechHaveWorkedWith',\n",
       "       'ToolsTechWantToWorkWith', 'Trans', 'WebframeHaveWorkedWith',\n",
       "       'WebframeWantToWorkWith', 'YearsCode', 'YearsCodePro'], \n",
       "      dtype='<U30')"
      ]
     },
     "execution_count": 6,
     "metadata": {},
     "output_type": "execute_result"
    }
   ],
   "source": [
    "int_cols_1"
   ]
  },
  {
   "cell_type": "code",
   "execution_count": 7,
   "metadata": {},
   "outputs": [
    {
     "data": {
      "text/plain": [
       "array(['Age', 'CompFreq', 'CompTotal', 'Country', 'DevType', 'EdLevel',\n",
       "       'Employment', 'Ethnicity', 'Gender', 'MainBranch', 'OrgSize',\n",
       "       'SOAccount', 'SOComm', 'SOPartFreq', 'SOVisitFreq', 'Sexuality',\n",
       "       'SurveyEase', 'SurveyLength', 'Trans', 'YearsCode', 'YearsCodePro'], \n",
       "      dtype='<U30')"
      ]
     },
     "execution_count": 7,
     "metadata": {},
     "output_type": "execute_result"
    }
   ],
   "source": [
    "int_cols_4 = np.intersect1d(int_cols_1,list(df_2019.columns))\n",
    "int_cols_4"
   ]
  },
  {
   "cell_type": "markdown",
   "metadata": {},
   "source": [
    "From the above we can see that past four years have sufficient common columns to analyse and have results\n"
   ]
  },
  {
   "cell_type": "markdown",
   "metadata": {},
   "source": [
    "Question1: Change in the trends of the desired technology to learn"
   ]
  },
  {
   "cell_type": "code",
   "execution_count": 50,
   "metadata": {},
   "outputs": [],
   "source": [
    "#Data Preprocessing in MiscTechWantToWorkWith columns\n",
    "def get_desired_tech(df, col,year):\n",
    "    tech_df = df[col].dropna()\n",
    "    tech_df = pd.get_dummies(tech_df.str.split(';',expand=True),prefix='',prefix_sep = '')\n",
    "    tech_df = tech_df.groupby(lambda x:x, axis=1).sum()\n",
    "    tech_df = tech_df.sum()\n",
    "    tech_df = (tech_df/tech_df.sum()).sort_values(ascending=False).to_frame()\n",
    "    return tech_df.rename(columns= {0: year}).T  "
   ]
  },
  {
   "cell_type": "code",
   "execution_count": 51,
   "metadata": {
    "scrolled": true
   },
   "outputs": [
    {
     "data": {
      "text/plain": [
       "<matplotlib.axes._subplots.AxesSubplot at 0x7f1f80072a90>"
      ]
     },
     "execution_count": 51,
     "metadata": {},
     "output_type": "execute_result"
    },
    {
     "data": {
      "image/png": "[encoded data removed]",
      "text/plain": [
       "<matplotlib.figure.Figure at 0x7f1f802f7710>"
      ]
     },
     "metadata": {
      "needs_background": "light"
     },
     "output_type": "display_data"
    }
   ],
   "source": [
    "\n",
    "tech_2022 = get_desired_tech(df_2022,'MiscTechWantToWorkWith',2022)\n",
    "tech_2021 = get_desired_tech(df_2021,'MiscTechWantToWorkWith',2021)\n",
    "tech_2020 = get_desired_tech(df_2020,'MiscTechDesireNextYear',2020)\n",
    "tech_2019 = get_desired_tech(df_2019,'MiscTechDesireNextYear',2019)\n",
    "\n",
    "tech_df = tech_2019.append([tech_2020,tech_2021,tech_2022],sort='False').dropna(axis=1)\n",
    "tech_df.reset_index(level=0, inplace=True)\n",
    "tech_df = tech_df.rename(columns= {'index': 'year'})\n",
    "\n",
    "tech_df.plot(x=\"year\",y=['Hadoop','React Native','TensorFlow'], kind=\"bar\")\n"
   ]
  },
  {
   "cell_type": "markdown",
   "metadata": {},
   "source": [
    "Similarly if we try to find the trend of desired language to learn in the coming years"
   ]
  },
  {
   "cell_type": "code",
   "execution_count": 52,
   "metadata": {},
   "outputs": [
    {
     "data": {
      "text/plain": [
       "<matplotlib.axes._subplots.AxesSubplot at 0x7f1f80611128>"
      ]
     },
     "execution_count": 52,
     "metadata": {},
     "output_type": "execute_result"
    },
    {
     "data": {
      "image/png": "[encoded data removed]",
      "text/plain": [
       "<matplotlib.figure.Figure at 0x7f1f7f7aacc0>"
      ]
     },
     "metadata": {
      "needs_background": "light"
     },
     "output_type": "display_data"
    }
   ],
   "source": [
    "# Language desired next year LanguageDesireNextYear\n",
    "lang_2022 = get_desired_tech(df_2022,'LanguageWantToWorkWith',2022)\n",
    "lang_2021 = get_desired_tech(df_2021,'LanguageWantToWorkWith',2021)\n",
    "lang_2020 = get_desired_tech(df_2020,'LanguageDesireNextYear',2020)\n",
    "lang_2019 = get_desired_tech(df_2019,'LanguageDesireNextYear',2019)\n",
    "\n",
    "lang_df = lang_2019.append([lang_2020,lang_2021,lang_2022],sort='False').dropna(axis=1)\n",
    "lang_df.reset_index(level=0, inplace=True)\n",
    "lang_df = lang_df.rename(columns= {'index': 'year'})\n",
    "\n",
    "lang_df.plot(x=\"year\",y=['C','C#','Python'], kind=\"bar\")\n"
   ]
  },
  {
   "cell_type": "markdown",
   "metadata": {},
   "source": [
    "Question2: Trends of Education "
   ]
  },
  {
   "cell_type": "code",
   "execution_count": 26,
   "metadata": {},
   "outputs": [],
   "source": [
    "# 3. Trends of EdLevel of ML?dataScience Job holder\n",
    "def tech_in_ML(df,year):\n",
    "    tech_df = pd.get_dummies(df['DevType'].str.split(';',expand=True),prefix='',prefix_sep = '')\n",
    "    tech_df = tech_df.groupby(lambda x:x, axis=1).sum()\n",
    "    updated_dev = pd.concat([df.drop('DevType',axis=1),tech_df],axis=1)\n",
    "    ml_dev = updated_dev[updated_dev['Data scientist or machine learning specialist']==1]\n",
    "    updated_sr = ml_dev.groupby('EdLevel')['EdLevel'].agg('count')\n",
    "    updated_df = (updated_sr/ml_dev.shape[0]).sort_values(ascending= False)[:2].to_frame()\n",
    "    return updated_df.rename(columns= {'EdLevel': year}).T "
   ]
  },
  {
   "cell_type": "code",
   "execution_count": null,
   "metadata": {},
   "outputs": [],
   "source": []
  },
  {
   "cell_type": "code",
   "execution_count": 27,
   "metadata": {},
   "outputs": [],
   "source": [
    "ML_2022 = tech_in_ML(df_2022,2022)\n",
    "ML_2021 = tech_in_ML(df_2021,2021)\n",
    "ML_2020 = tech_in_ML(df_2020,2020)\n",
    "ML_2019 = tech_in_ML(df_2019,2019)\n",
    "\n",
    "ML_2020 = ML_2020.rename(columns = {'Bachelor’s degree (BA, BS, B.Eng., etc.)':'Bachelor’s degree (B.A., B.S., B.Eng., etc.)',\n",
    "                         'Master’s degree (MA, MS, M.Eng., MBA, etc.)':'Master’s degree (M.A., M.S., M.Eng., MBA, etc.)'})\n",
    "\n",
    "ML_2019 = ML_2019.rename(columns = {'Bachelor’s degree (BA, BS, B.Eng., etc.)':'Bachelor’s degree (B.A., B.S., B.Eng., etc.)',\n",
    "                         'Master’s degree (MA, MS, M.Eng., MBA, etc.)':'Master’s degree (M.A., M.S., M.Eng., MBA, etc.)'})\n",
    "\n",
    "ML_df = ML_2019.append([ML_2020,ML_2021,ML_2022],sort='False').dropna(axis=1)\n",
    "ML_df.reset_index(level=0, inplace=True)\n",
    "ML_df = ML_df.rename(columns= {'EdLevel': 'year'})"
   ]
  },
  {
   "cell_type": "code",
   "execution_count": 28,
   "metadata": {},
   "outputs": [
    {
     "data": {
      "text/plain": [
       "<matplotlib.axes._subplots.AxesSubplot at 0x7f1f7fcf2908>"
      ]
     },
     "execution_count": 28,
     "metadata": {},
     "output_type": "execute_result"
    },
    {
     "data": {
      "image/png": "[encoded data removed]",
      "text/plain": [
       "<matplotlib.figure.Figure at 0x7f1f803340f0>"
      ]
     },
     "metadata": {
      "needs_background": "light"
     },
     "output_type": "display_data"
    }
   ],
   "source": [
    "ML_df.plot(x=\"index\",y=['Bachelor’s degree (B.A., B.S., B.Eng., etc.)',\n",
    "                        'Master’s degree (M.A., M.S., M.Eng., MBA, etc.)'], kind=\"bar\")"
   ]
  },
  {
   "cell_type": "markdown",
   "metadata": {},
   "source": [
    "Question3: percentage of Women who code in start-ups"
   ]
  },
  {
   "cell_type": "code",
   "execution_count": 32,
   "metadata": {},
   "outputs": [],
   "source": [
    "# 3. Startup culture having women who code trends\n",
    "df_2022['StartUp'] = df_2022['OrgSize'].isin(['20 to 99 employees', \n",
    "                                             '100 to 499 employees','2 to 9 employees','10 to 19 employees',\n",
    "                                             '500 to 999 employees'])"
   ]
  },
  {
   "cell_type": "code",
   "execution_count": 33,
   "metadata": {},
   "outputs": [
    {
     "data": {
      "text/plain": [
       "array([nan, '20 to 99 employees', '100 to 499 employees', 'I don’t know',\n",
       "       'Just me - I am a freelancer, sole proprietor, etc.',\n",
       "       '2 to 9 employees', '5,000 to 9,999 employees',\n",
       "       '1,000 to 4,999 employees', '10,000 or more employees',\n",
       "       '500 to 999 employees', '10 to 19 employees'], dtype=object)"
      ]
     },
     "execution_count": 33,
     "metadata": {},
     "output_type": "execute_result"
    }
   ],
   "source": [
    "df_2022['OrgSize'].unique()"
   ]
  },
  {
   "cell_type": "code",
   "execution_count": 38,
   "metadata": {},
   "outputs": [],
   "source": [
    "women_trend = []\n",
    "def women_data(df,col,arr_like,grp_col):\n",
    "    df['new_col'] = df[col].isin(arr_like)\n",
    "    grp_df = df[df['new_col']].groupby(grp_col)[grp_col].agg('count')\n",
    "    return grp_df.get('Woman')/df[df['new_col']].shape[0]   "
   ]
  },
  {
   "cell_type": "code",
   "execution_count": 39,
   "metadata": {
    "scrolled": true
   },
   "outputs": [],
   "source": [
    "df = [df_2019,df_2020,df_2021,df_2022]\n",
    "for idf in df:\n",
    "    women_trend.append(women_data(idf,'OrgSize',['20 to 99 employees', \n",
    "                                             '100 to 499 employees','2 to 9 employees','10 to 19 employees',\n",
    "                                             '500 to 999 employees'],'Gender'))"
   ]
  },
  {
   "cell_type": "code",
   "execution_count": 40,
   "metadata": {},
   "outputs": [],
   "source": [
    "years = [2019,2020,2021,2022]"
   ]
  },
  {
   "cell_type": "code",
   "execution_count": 41,
   "metadata": {},
   "outputs": [
    {
     "data": {
      "image/png": "[encoded data removed]",
      "text/plain": [
       "<matplotlib.figure.Figure at 0x7f1f8061e160>"
      ]
     },
     "metadata": {
      "needs_background": "light"
     },
     "output_type": "display_data"
    }
   ],
   "source": [
    "fig = plt.figure(figsize =(10, 7))\n",
    " \n",
    "# Horizontal Bar Plot\n",
    "plt.bar(years, women_trend)\n",
    " \n",
    "# Show Plot\n",
    "plt.show()"
   ]
  },
  {
   "cell_type": "code",
   "execution_count": null,
   "metadata": {},
   "outputs": [],
   "source": []
  }
 ],
 "metadata": {
  "kernelspec": {
   "display_name": "Python 3",
   "language": "python",
   "name": "python3"
  },
  "language_info": {
   "codemirror_mode": {
    "name": "ipython",
    "version": 3
   },
   "file_extension": ".py",
   "mimetype": "text/x-python",
   "name": "python",
   "nbconvert_exporter": "python",
   "pygments_lexer": "ipython3",
   "version": "3.6.3"
  }
 },
 "nbformat": 4,
 "nbformat_minor": 2
}
